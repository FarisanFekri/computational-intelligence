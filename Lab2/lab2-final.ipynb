{
 "cells": [
  {
   "cell_type": "markdown",
   "metadata": {
    "pycharm": {
     "name": "#%%\n"
    }
   },
   "source": [
    "# Lab 2: ES\n",
    "\n",
    "## Task\n",
    "\n",
    "Write agents able to play [*Nim*](https://en.wikipedia.org/wiki/Nim), with an arbitrary number of rows and an upper bound $k$ on the number of objects that can be removed in a turn (a.k.a., *subtraction game*).\n",
    "\n",
    "The goal of the game is to **avoid** taking the last object.\n",
    "\n",
    "* Task2.1: An agent using fixed rules based on *nim-sum* (i.e., an *expert system*)\n",
    "* Task2.2: An agent using evolved rules using ES\n",
    "\n",
    "## Instructions\n",
    "\n",
    "* Create the directory `lab2` inside your personal course repository for the course \n",
    "* Put a `README.md` and your solution (all the files, code and auxiliary data if needed)\n",
    "\n",
    "## Work\n",
    "This code was designed, programmed and tested by\n",
    "* Giacomo Fantino\n",
    "* Farisan Fekri\n",
    "* Lorenzo Bonannella \n",
    "* Giacomo Cauda\n",
    "\n"
   ]
  },
  {
   "cell_type": "code",
   "execution_count": 3,
   "metadata": {},
   "outputs": [],
   "source": [
    "import logging\n",
    "from pprint import pprint, pformat\n",
    "from collections import namedtuple\n",
    "import random\n",
    "from copy import deepcopy\n",
    "from dataclasses import dataclass\n",
    "from random import randint,choice\n",
    "from copy import copy"
   ]
  },
  {
   "cell_type": "markdown",
   "metadata": {},
   "source": [
    "## The *Nim* and *Nimply* classes"
   ]
  },
  {
   "cell_type": "code",
   "execution_count": 4,
   "metadata": {},
   "outputs": [],
   "source": [
    "Nimply = namedtuple(\"Nimply\", \"row, num_objects\")\n"
   ]
  },
  {
   "cell_type": "code",
   "execution_count": 5,
   "metadata": {},
   "outputs": [],
   "source": [
    "class Nim:\n",
    "    def __init__(self, num_rows: int, k: int = None) -> None:\n",
    "        self._rows = [i * 2 + 1 for i in range(num_rows)]\n",
    "        self._k = k\n",
    "\n",
    "    def __bool__(self):\n",
    "        return sum(self._rows) > 0\n",
    "\n",
    "    def __str__(self):\n",
    "        return \"<\" + \" \".join(str(_) for _ in self._rows) + \">\"\n",
    "\n",
    "    @property\n",
    "    def rows(self) -> tuple:\n",
    "        return tuple(self._rows)\n",
    "\n",
    "    def nimming(self, ply: Nimply) -> None:\n",
    "        row, num_objects = ply\n",
    "        assert self._rows[row] >= num_objects\n",
    "        assert self._k is None or num_objects <= self._k\n",
    "        self._rows[row] -= num_objects\n"
   ]
  },
  {
   "cell_type": "markdown",
   "metadata": {},
   "source": [
    "## Sample (and silly) startegies "
   ]
  },
  {
   "cell_type": "code",
   "execution_count": 6,
   "metadata": {},
   "outputs": [],
   "source": [
    "def pure_random(state: Nim) -> Nimply:\n",
    "    \"\"\"A completely random move\"\"\"\n",
    "    row = random.choice([r for r, c in enumerate(state.rows) if c > 0])\n",
    "    num_objects = random.randint(1, state.rows[row])\n",
    "    return Nimply(row, num_objects)\n"
   ]
  },
  {
   "cell_type": "code",
   "execution_count": 7,
   "metadata": {},
   "outputs": [],
   "source": [
    "def gabriele(state: Nim) -> Nimply:\n",
    "    \"\"\"Pick always the maximum possible number of the lowest row\"\"\"\n",
    "    possible_moves = [(r, o) for r, c in enumerate(state.rows) for o in range(1, c + 1)]\n",
    "    return Nimply(*max(possible_moves, key=lambda m: (-m[0], m[1])))\n"
   ]
  },
  {
   "cell_type": "code",
   "execution_count": 9,
   "metadata": {},
   "outputs": [],
   "source": [
    "import numpy as np\n",
    "\n",
    "\n",
    "def nim_sum(state: Nim) -> int:\n",
    "    tmp = np.array([tuple(int(x) for x in f\"{c:032b}\") for c in state.rows])\n",
    "    xor = tmp.sum(axis=0) % 2\n",
    "    return int(\"\".join(str(_) for _ in xor), base=2)\n",
    "\n",
    "\n",
    "def analize(raw: Nim) -> dict:\n",
    "    cooked = dict()\n",
    "    cooked[\"possible_moves\"] = dict()\n",
    "    for ply in (Nimply(r, o) for r, c in enumerate(raw.rows) for o in range(1, c + 1)):\n",
    "        tmp = deepcopy(raw)\n",
    "        tmp.nimming(ply)\n",
    "        cooked[\"possible_moves\"][ply] = nim_sum(tmp)\n",
    "    return cooked\n",
    "\n",
    "\n",
    "def optimal(state: Nim) -> Nimply:\n",
    "    analysis = analize(state)\n",
    "    logging.debug(f\"analysis:\\n{pformat(analysis)}\")\n",
    "    spicy_moves = [ply for ply, ns in analysis[\"possible_moves\"].items() if ns != 0]\n",
    "    if not spicy_moves:\n",
    "        spicy_moves = list(analysis[\"possible_moves\"].keys())\n",
    "    ply = random.choice(spicy_moves)\n",
    "    return ply\n"
   ]
  },
  {
   "cell_type": "markdown",
   "metadata": {},
   "source": [
    "## Oversimplified match"
   ]
  },
  {
   "cell_type": "code",
   "execution_count": 13,
   "metadata": {},
   "outputs": [
    {
     "name": "stderr",
     "output_type": "stream",
     "text": [
      "INFO:root:init : <1 3 5 7 9>\n",
      "INFO:root:ply: player 0 plays Nimply(row=3, num_objects=1)\n",
      "INFO:root:status: <1 3 5 6 9>\n",
      "INFO:root:ply: player 1 plays Nimply(row=3, num_objects=1)\n",
      "INFO:root:status: <1 3 5 5 9>\n",
      "INFO:root:ply: player 0 plays Nimply(row=4, num_objects=8)\n",
      "INFO:root:status: <1 3 5 5 1>\n",
      "INFO:root:ply: player 1 plays Nimply(row=3, num_objects=4)\n",
      "INFO:root:status: <1 3 5 1 1>\n",
      "INFO:root:ply: player 0 plays Nimply(row=2, num_objects=1)\n",
      "INFO:root:status: <1 3 4 1 1>\n",
      "INFO:root:ply: player 1 plays Nimply(row=3, num_objects=1)\n",
      "INFO:root:status: <1 3 4 0 1>\n",
      "INFO:root:ply: player 0 plays Nimply(row=1, num_objects=1)\n",
      "INFO:root:status: <1 2 4 0 1>\n",
      "INFO:root:ply: player 1 plays Nimply(row=4, num_objects=1)\n",
      "INFO:root:status: <1 2 4 0 0>\n",
      "INFO:root:ply: player 0 plays Nimply(row=1, num_objects=2)\n",
      "INFO:root:status: <1 0 4 0 0>\n",
      "INFO:root:ply: player 1 plays Nimply(row=2, num_objects=3)\n",
      "INFO:root:status: <1 0 1 0 0>\n",
      "INFO:root:ply: player 0 plays Nimply(row=2, num_objects=1)\n",
      "INFO:root:status: <1 0 0 0 0>\n",
      "INFO:root:ply: player 1 plays Nimply(row=0, num_objects=1)\n",
      "INFO:root:status: <0 0 0 0 0>\n",
      "INFO:root:status: Player 0 won!\n"
     ]
    }
   ],
   "source": [
    "logging.getLogger().setLevel(logging.INFO)\n",
    "\n",
    "strategy = (optimal, pure_random)\n",
    "\n",
    "nim = Nim(5)\n",
    "logging.info(f\"init : {nim}\")\n",
    "player = 0\n",
    "while nim:\n",
    "    ply = strategy[player](nim)\n",
    "    logging.info(f\"ply: player {player} plays {ply}\")\n",
    "    nim.nimming(ply)\n",
    "    logging.info(f\"status: {nim}\")\n",
    "    player = 1 - player\n",
    "logging.info(f\"status: Player {player} won!\")\n"
   ]
  },
  {
   "cell_type": "code",
   "execution_count": 50,
   "metadata": {},
   "outputs": [],
   "source": [
    "POPULATION_SIZE = 20\n",
    "OFFSPRING_SIZE = 20\n",
    "TOURNAMENT_SIZE = 3\n",
    "MUTATION_PROBABILITY = .15\n",
    "NUM_ROWS = 5\n",
    "NUM_MOVES = sum([i * 2 + 1 for i in range(NUM_ROWS)])//2\n",
    "UPPERBOUND_K = 3\n",
    "\n",
    "def fitness(genotype):\n",
    "    strategy = (pure_random, gabriele, optimal)\n",
    "    score = 0\n",
    "\n",
    "    for i in range(18): #number of rounds\n",
    "        nim = Nim(5)\n",
    "        index = 0\n",
    "        player = 0\n",
    "        num_moves = 0\n",
    "        \n",
    "        while nim:\n",
    "            if player == 0:\n",
    "                ply = genotype[index]\n",
    "                index += 1\n",
    "                \n",
    "                while nim._rows[ply[0]] < ply[1]:\n",
    "                    #spare move\n",
    "                    ply = (randint(0, NUM_ROWS-1), 1) #spare move\n",
    "                \n",
    "                num_moves += 1\n",
    "            else:\n",
    "                ply = strategy[i%3](nim) #pick which strategy we are fighting this time\n",
    "            \n",
    "            nim.nimming(ply)\n",
    "            player = 1 - player\n",
    "            \n",
    "        if player == 0: #we won\n",
    "            score = score + 10\n",
    "        else:\n",
    "            #some points ==> if we played a lot of moves is better than losing after a couple of moves\n",
    "            score = score + num_moves*0.01 #between 0 and 10\n",
    "    return score"
   ]
  },
  {
   "cell_type": "code",
   "execution_count": 51,
   "metadata": {},
   "outputs": [],
   "source": [
    "@dataclass\n",
    "class Individual:\n",
    "    fitness: int\n",
    "    genotype: list[(int, int)]\n",
    "\n",
    "population = [\n",
    "    Individual(\n",
    "        genotype=[],\n",
    "        fitness=None,\n",
    "    )\n",
    "    for _ in range(POPULATION_SIZE)\n",
    "]\n",
    "\n",
    "for i in population:\n",
    "    for _ in range(NUM_MOVES):\n",
    "        row = randint(0, NUM_ROWS-1)\n",
    "        i.genotype.extend(\n",
    "            [\n",
    "                (row, min(randint(1, row * 2 + 1), UPPERBOUND_K))\n",
    "            ]) #what we are doing is avoiding situations like picking 5 elements from row 1 which has at most 1 element\n",
    "    \n",
    "    i.fitness = fitness(i.genotype)\n"
   ]
  },
  {
   "cell_type": "code",
   "execution_count": 52,
   "metadata": {},
   "outputs": [],
   "source": [
    "def select_parent(pop): #seleziono il genitore da cui mutare\n",
    "    pool = [choice(pop) for _ in range(TOURNAMENT_SIZE)]  \n",
    "    champion = max(pool, key=lambda i: i.fitness)\n",
    "    return champion\n",
    "\n",
    "def mutate(ind: Individual) -> Individual:\n",
    "    offspring = copy(ind)\n",
    "    pos = randint(0, len(offspring.genotype)-1)  #seleziono quale flippare\n",
    "    \n",
    "    temp = 0\n",
    "    while temp <= 0 or temp > UPPERBOUND_K: #new value MUST BE greater than 0\n",
    "        temp = offspring.genotype[pos][1] + choice([-1, 1]) #increase or decrease the number of picked element from the row\n",
    "    offspring.genotype[pos] = (offspring.genotype[pos][0], temp)\n",
    "    offspring.fitness = None\n",
    "    return offspring\n",
    "\n",
    "\n",
    "def one_cut_xover(ind1: Individual, ind2: Individual) -> Individual:\n",
    "    cut_point = randint(0, len(ind1.genotype))  #seleziono un punto di taglio dal set [GENITORE1/cut_point/GENITORE2]\n",
    "    offspring = Individual(fitness=None,\n",
    "                           genotype=ind1.genotype[:cut_point] + ind2.genotype[cut_point:])\n",
    "    return offspring"
   ]
  },
  {
   "cell_type": "code",
   "execution_count": 53,
   "metadata": {},
   "outputs": [
    {
     "name": "stdout",
     "output_type": "stream",
     "text": [
      "150.2\n",
      "150.2\n",
      "150.2\n",
      "150.2\n",
      "150.2\n",
      "150.2\n",
      "150.21999999999997\n",
      "150.21999999999997\n",
      "150.21999999999997\n",
      "150.21999999999997\n",
      "150.21999999999997\n",
      "150.21999999999997\n",
      "160.14\n",
      "160.14\n",
      "160.14\n",
      "160.14\n",
      "160.14\n",
      "160.14\n",
      "160.14\n",
      "160.14\n",
      "160.14\n",
      "160.17000000000002\n",
      "160.17000000000002\n",
      "160.17000000000002\n",
      "160.17000000000002\n",
      "160.17000000000002\n",
      "160.17000000000002\n",
      "160.17000000000002\n",
      "160.17000000000002\n",
      "160.17000000000002\n",
      "160.17000000000002\n",
      "160.17000000000002\n",
      "160.17000000000002\n",
      "160.17000000000002\n",
      "160.17000000000002\n",
      "160.17000000000002\n",
      "160.17000000000002\n",
      "170.07\n",
      "170.07\n"
     ]
    },
    {
     "ename": "KeyboardInterrupt",
     "evalue": "",
     "output_type": "error",
     "traceback": [
      "\u001b[1;31m---------------------------------------------------------------------------\u001b[0m",
      "\u001b[1;31mKeyboardInterrupt\u001b[0m                         Traceback (most recent call last)",
      "\u001b[1;32mc:\\Users\\nonlo\\OneDrive\\Desktop\\computation_intelligence\\lab2\\lab2-final.ipynb Cell 15\u001b[0m line \u001b[0;36m1\n\u001b[0;32m     <a href='vscode-notebook-cell:/c%3A/Users/nonlo/OneDrive/Desktop/computation_intelligence/lab2/lab2-final.ipynb#X22sZmlsZQ%3D%3D?line=12'>13</a>\u001b[0m     offspring\u001b[39m.\u001b[39mappend(o) \n\u001b[0;32m     <a href='vscode-notebook-cell:/c%3A/Users/nonlo/OneDrive/Desktop/computation_intelligence/lab2/lab2-final.ipynb#X22sZmlsZQ%3D%3D?line=14'>15</a>\u001b[0m \u001b[39mfor\u001b[39;00m i \u001b[39min\u001b[39;00m offspring:\n\u001b[1;32m---> <a href='vscode-notebook-cell:/c%3A/Users/nonlo/OneDrive/Desktop/computation_intelligence/lab2/lab2-final.ipynb#X22sZmlsZQ%3D%3D?line=15'>16</a>\u001b[0m     i\u001b[39m.\u001b[39mfitness \u001b[39m=\u001b[39m fitness(i\u001b[39m.\u001b[39;49mgenotype)\n\u001b[0;32m     <a href='vscode-notebook-cell:/c%3A/Users/nonlo/OneDrive/Desktop/computation_intelligence/lab2/lab2-final.ipynb#X22sZmlsZQ%3D%3D?line=16'>17</a>\u001b[0m population\u001b[39m.\u001b[39mextend(offspring) \n\u001b[0;32m     <a href='vscode-notebook-cell:/c%3A/Users/nonlo/OneDrive/Desktop/computation_intelligence/lab2/lab2-final.ipynb#X22sZmlsZQ%3D%3D?line=17'>18</a>\u001b[0m population\u001b[39m.\u001b[39msort(key\u001b[39m=\u001b[39m\u001b[39mlambda\u001b[39;00m i: i\u001b[39m.\u001b[39mfitness, reverse\u001b[39m=\u001b[39m\u001b[39mTrue\u001b[39;00m) \n",
      "\u001b[1;32mc:\\Users\\nonlo\\OneDrive\\Desktop\\computation_intelligence\\lab2\\lab2-final.ipynb Cell 15\u001b[0m line \u001b[0;36m3\n\u001b[0;32m     <a href='vscode-notebook-cell:/c%3A/Users/nonlo/OneDrive/Desktop/computation_intelligence/lab2/lab2-final.ipynb#X22sZmlsZQ%3D%3D?line=28'>29</a>\u001b[0m     num_moves \u001b[39m+\u001b[39m\u001b[39m=\u001b[39m \u001b[39m1\u001b[39m\n\u001b[0;32m     <a href='vscode-notebook-cell:/c%3A/Users/nonlo/OneDrive/Desktop/computation_intelligence/lab2/lab2-final.ipynb#X22sZmlsZQ%3D%3D?line=29'>30</a>\u001b[0m \u001b[39melse\u001b[39;00m:\n\u001b[1;32m---> <a href='vscode-notebook-cell:/c%3A/Users/nonlo/OneDrive/Desktop/computation_intelligence/lab2/lab2-final.ipynb#X22sZmlsZQ%3D%3D?line=30'>31</a>\u001b[0m     ply \u001b[39m=\u001b[39m strategy[i\u001b[39m%\u001b[39;49m\u001b[39m3\u001b[39;49m](nim) \u001b[39m#pick which strategy we are fighting this time\u001b[39;00m\n\u001b[0;32m     <a href='vscode-notebook-cell:/c%3A/Users/nonlo/OneDrive/Desktop/computation_intelligence/lab2/lab2-final.ipynb#X22sZmlsZQ%3D%3D?line=32'>33</a>\u001b[0m nim\u001b[39m.\u001b[39mnimming(ply)\n\u001b[0;32m     <a href='vscode-notebook-cell:/c%3A/Users/nonlo/OneDrive/Desktop/computation_intelligence/lab2/lab2-final.ipynb#X22sZmlsZQ%3D%3D?line=33'>34</a>\u001b[0m player \u001b[39m=\u001b[39m \u001b[39m1\u001b[39m \u001b[39m-\u001b[39m player\n",
      "\u001b[1;32mc:\\Users\\nonlo\\OneDrive\\Desktop\\computation_intelligence\\lab2\\lab2-final.ipynb Cell 15\u001b[0m line \u001b[0;36m2\n\u001b[0;32m     <a href='vscode-notebook-cell:/c%3A/Users/nonlo/OneDrive/Desktop/computation_intelligence/lab2/lab2-final.ipynb#X22sZmlsZQ%3D%3D?line=19'>20</a>\u001b[0m \u001b[39mdef\u001b[39;00m \u001b[39moptimal\u001b[39m(state: Nim) \u001b[39m-\u001b[39m\u001b[39m>\u001b[39m Nimply:\n\u001b[1;32m---> <a href='vscode-notebook-cell:/c%3A/Users/nonlo/OneDrive/Desktop/computation_intelligence/lab2/lab2-final.ipynb#X22sZmlsZQ%3D%3D?line=20'>21</a>\u001b[0m     analysis \u001b[39m=\u001b[39m analize(state)\n\u001b[0;32m     <a href='vscode-notebook-cell:/c%3A/Users/nonlo/OneDrive/Desktop/computation_intelligence/lab2/lab2-final.ipynb#X22sZmlsZQ%3D%3D?line=21'>22</a>\u001b[0m     logging\u001b[39m.\u001b[39mdebug(\u001b[39mf\u001b[39m\u001b[39m\"\u001b[39m\u001b[39manalysis:\u001b[39m\u001b[39m\\n\u001b[39;00m\u001b[39m{\u001b[39;00mpformat(analysis)\u001b[39m}\u001b[39;00m\u001b[39m\"\u001b[39m)\n\u001b[0;32m     <a href='vscode-notebook-cell:/c%3A/Users/nonlo/OneDrive/Desktop/computation_intelligence/lab2/lab2-final.ipynb#X22sZmlsZQ%3D%3D?line=22'>23</a>\u001b[0m     spicy_moves \u001b[39m=\u001b[39m [ply \u001b[39mfor\u001b[39;00m ply, ns \u001b[39min\u001b[39;00m analysis[\u001b[39m\"\u001b[39m\u001b[39mpossible_moves\u001b[39m\u001b[39m\"\u001b[39m]\u001b[39m.\u001b[39mitems() \u001b[39mif\u001b[39;00m ns \u001b[39m!=\u001b[39m \u001b[39m0\u001b[39m]\n",
      "\u001b[1;32mc:\\Users\\nonlo\\OneDrive\\Desktop\\computation_intelligence\\lab2\\lab2-final.ipynb Cell 15\u001b[0m line \u001b[0;36m1\n\u001b[0;32m     <a href='vscode-notebook-cell:/c%3A/Users/nonlo/OneDrive/Desktop/computation_intelligence/lab2/lab2-final.ipynb#X22sZmlsZQ%3D%3D?line=13'>14</a>\u001b[0m     tmp \u001b[39m=\u001b[39m deepcopy(raw)\n\u001b[0;32m     <a href='vscode-notebook-cell:/c%3A/Users/nonlo/OneDrive/Desktop/computation_intelligence/lab2/lab2-final.ipynb#X22sZmlsZQ%3D%3D?line=14'>15</a>\u001b[0m     tmp\u001b[39m.\u001b[39mnimming(ply)\n\u001b[1;32m---> <a href='vscode-notebook-cell:/c%3A/Users/nonlo/OneDrive/Desktop/computation_intelligence/lab2/lab2-final.ipynb#X22sZmlsZQ%3D%3D?line=15'>16</a>\u001b[0m     cooked[\u001b[39m\"\u001b[39m\u001b[39mpossible_moves\u001b[39m\u001b[39m\"\u001b[39m][ply] \u001b[39m=\u001b[39m nim_sum(tmp)\n\u001b[0;32m     <a href='vscode-notebook-cell:/c%3A/Users/nonlo/OneDrive/Desktop/computation_intelligence/lab2/lab2-final.ipynb#X22sZmlsZQ%3D%3D?line=16'>17</a>\u001b[0m \u001b[39mreturn\u001b[39;00m cooked\n",
      "\u001b[1;32mc:\\Users\\nonlo\\OneDrive\\Desktop\\computation_intelligence\\lab2\\lab2-final.ipynb Cell 15\u001b[0m line \u001b[0;36m7\n\u001b[0;32m      <a href='vscode-notebook-cell:/c%3A/Users/nonlo/OneDrive/Desktop/computation_intelligence/lab2/lab2-final.ipynb#X22sZmlsZQ%3D%3D?line=4'>5</a>\u001b[0m tmp \u001b[39m=\u001b[39m np\u001b[39m.\u001b[39marray([\u001b[39mtuple\u001b[39m(\u001b[39mint\u001b[39m(x) \u001b[39mfor\u001b[39;00m x \u001b[39min\u001b[39;00m \u001b[39mf\u001b[39m\u001b[39m\"\u001b[39m\u001b[39m{\u001b[39;00mc\u001b[39m:\u001b[39;00m\u001b[39m032b\u001b[39m\u001b[39m}\u001b[39;00m\u001b[39m\"\u001b[39m) \u001b[39mfor\u001b[39;00m c \u001b[39min\u001b[39;00m state\u001b[39m.\u001b[39mrows])\n\u001b[0;32m      <a href='vscode-notebook-cell:/c%3A/Users/nonlo/OneDrive/Desktop/computation_intelligence/lab2/lab2-final.ipynb#X22sZmlsZQ%3D%3D?line=5'>6</a>\u001b[0m xor \u001b[39m=\u001b[39m tmp\u001b[39m.\u001b[39msum(axis\u001b[39m=\u001b[39m\u001b[39m0\u001b[39m) \u001b[39m%\u001b[39m \u001b[39m2\u001b[39m\n\u001b[1;32m----> <a href='vscode-notebook-cell:/c%3A/Users/nonlo/OneDrive/Desktop/computation_intelligence/lab2/lab2-final.ipynb#X22sZmlsZQ%3D%3D?line=6'>7</a>\u001b[0m \u001b[39mreturn\u001b[39;00m \u001b[39mint\u001b[39m(\u001b[39m\"\u001b[39;49m\u001b[39m\"\u001b[39;49m\u001b[39m.\u001b[39;49mjoin(\u001b[39mstr\u001b[39;49m(_) \u001b[39mfor\u001b[39;49;00m _ \u001b[39min\u001b[39;49;00m xor), base\u001b[39m=\u001b[39m\u001b[39m2\u001b[39m)\n",
      "\u001b[1;32mc:\\Users\\nonlo\\OneDrive\\Desktop\\computation_intelligence\\lab2\\lab2-final.ipynb Cell 15\u001b[0m line \u001b[0;36m7\n\u001b[0;32m      <a href='vscode-notebook-cell:/c%3A/Users/nonlo/OneDrive/Desktop/computation_intelligence/lab2/lab2-final.ipynb#X22sZmlsZQ%3D%3D?line=4'>5</a>\u001b[0m tmp \u001b[39m=\u001b[39m np\u001b[39m.\u001b[39marray([\u001b[39mtuple\u001b[39m(\u001b[39mint\u001b[39m(x) \u001b[39mfor\u001b[39;00m x \u001b[39min\u001b[39;00m \u001b[39mf\u001b[39m\u001b[39m\"\u001b[39m\u001b[39m{\u001b[39;00mc\u001b[39m:\u001b[39;00m\u001b[39m032b\u001b[39m\u001b[39m}\u001b[39;00m\u001b[39m\"\u001b[39m) \u001b[39mfor\u001b[39;00m c \u001b[39min\u001b[39;00m state\u001b[39m.\u001b[39mrows])\n\u001b[0;32m      <a href='vscode-notebook-cell:/c%3A/Users/nonlo/OneDrive/Desktop/computation_intelligence/lab2/lab2-final.ipynb#X22sZmlsZQ%3D%3D?line=5'>6</a>\u001b[0m xor \u001b[39m=\u001b[39m tmp\u001b[39m.\u001b[39msum(axis\u001b[39m=\u001b[39m\u001b[39m0\u001b[39m) \u001b[39m%\u001b[39m \u001b[39m2\u001b[39m\n\u001b[1;32m----> <a href='vscode-notebook-cell:/c%3A/Users/nonlo/OneDrive/Desktop/computation_intelligence/lab2/lab2-final.ipynb#X22sZmlsZQ%3D%3D?line=6'>7</a>\u001b[0m \u001b[39mreturn\u001b[39;00m \u001b[39mint\u001b[39m(\u001b[39m\"\u001b[39m\u001b[39m\"\u001b[39m\u001b[39m.\u001b[39mjoin(\u001b[39mstr\u001b[39;49m(_) \u001b[39mfor\u001b[39;00m _ \u001b[39min\u001b[39;00m xor), base\u001b[39m=\u001b[39m\u001b[39m2\u001b[39m)\n",
      "\u001b[1;31mKeyboardInterrupt\u001b[0m: "
     ]
    }
   ],
   "source": [
    "for generation in range(100): \n",
    "    offspring = list() \n",
    "    for counter in range(OFFSPRING_SIZE):\n",
    "        if random.random() < MUTATION_PROBABILITY:  # self-adapt mutation probability\n",
    "            # mutation  # add more clever mutations\n",
    "            p = select_parent(population)\n",
    "            o = mutate(p)\n",
    "        else:\n",
    "            # xover # add more xovers\n",
    "            p1 = select_parent(population)\n",
    "            p2 = select_parent(population)\n",
    "            o = one_cut_xover(p1, p2)\n",
    "        offspring.append(o) \n",
    "\n",
    "    for i in offspring:\n",
    "        i.fitness = fitness(i.genotype)\n",
    "    population.extend(offspring) \n",
    "    population.sort(key=lambda i: i.fitness, reverse=True) \n",
    "    population = population[:POPULATION_SIZE] \n",
    "    print(population[0].fitness) "
   ]
  }
 ],
 "metadata": {
  "kernelspec": {
   "display_name": "Python 3.10.7 ('ci22-dPIXJ0_o-py3.10')",
   "language": "python",
   "name": "python3"
  },
  "language_info": {
   "codemirror_mode": {
    "name": "ipython",
    "version": 3
   },
   "file_extension": ".py",
   "mimetype": "text/x-python",
   "name": "python",
   "nbconvert_exporter": "python",
   "pygments_lexer": "ipython3",
   "version": "3.12.0"
  },
  "vscode": {
   "interpreter": {
    "hash": "10197e8e2f2aa67e2c349105091c77f4cd384fce4877865f002d9ec653f96bc0"
   }
  }
 },
 "nbformat": 4,
 "nbformat_minor": 2
}
